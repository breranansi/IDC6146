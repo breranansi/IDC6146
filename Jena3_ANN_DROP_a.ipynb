{
 "cells": [
  {
   "cell_type": "markdown",
   "id": "4ba21f8f-1268-497a-8836-cdc0db11017e",
   "metadata": {
    "id": "4ba21f8f-1268-497a-8836-cdc0db11017e"
   },
   "source": [
    "# Optimizer Example\n",
    "Jena Climate ANN example showing the effects of dropout rates on the Adam optimizer.\n",
    "This is a regression model, using 3-hour data\n",
    "\n",
    "Gabriella Ferro & Richard Henry, 18-Jul-2024"
   ]
  },
  {
   "cell_type": "code",
   "execution_count": 1,
   "id": "8ec745da-4136-40d1-b7bc-421b2c17ae62",
   "metadata": {
    "id": "8ec745da-4136-40d1-b7bc-421b2c17ae62"
   },
   "outputs": [],
   "source": [
    "#Import Libararies\n",
    "import tensorflow as tf\n",
    "import matplotlib.pyplot as plt\n",
    "import numpy as np\n",
    "import pandas as pd\n",
    "import os"
   ]
  },
  {
   "cell_type": "markdown",
   "id": "ab580137-e46a-4eca-8f26-212c51ae0970",
   "metadata": {
    "id": "ab580137-e46a-4eca-8f26-212c51ae0970"
   },
   "source": [
    "Test Libraries"
   ]
  },
  {
   "cell_type": "code",
   "execution_count": 2,
   "id": "f3993fae-3caa-4e5d-a26b-2feaa014ab76",
   "metadata": {
    "colab": {
     "base_uri": "https://localhost:8080/"
    },
    "id": "f3993fae-3caa-4e5d-a26b-2feaa014ab76",
    "outputId": "b4d0c35b-548f-4adf-b0ca-ed97db6e1277"
   },
   "outputs": [
    {
     "name": "stdout",
     "output_type": "stream",
     "text": [
      "3.12.3\n"
     ]
    }
   ],
   "source": [
    "# Check python version\n",
    "from platform import python_version\n",
    "print(python_version())\n",
    "#3.12.3"
   ]
  },
  {
   "cell_type": "code",
   "execution_count": 3,
   "id": "536a1fdc-4aa4-4cc5-808e-17d633e449fe",
   "metadata": {
    "colab": {
     "base_uri": "https://localhost:8080/",
     "height": 35
    },
    "id": "536a1fdc-4aa4-4cc5-808e-17d633e449fe",
    "outputId": "3858c201-4263-45ac-fbd2-48fe0098a7eb"
   },
   "outputs": [
    {
     "data": {
      "text/plain": [
       "'2.17.0'"
      ]
     },
     "execution_count": 3,
     "metadata": {},
     "output_type": "execute_result"
    }
   ],
   "source": [
    "# Check tensorflow version\n",
    "tf.__version__\n",
    "#2.16.1"
   ]
  },
  {
   "cell_type": "code",
   "execution_count": 4,
   "id": "25744cbf-8fd4-46f3-ac63-d92177a0ebef",
   "metadata": {
    "id": "25744cbf-8fd4-46f3-ac63-d92177a0ebef"
   },
   "outputs": [
    {
     "data": {
      "text/plain": [
       "'3.4.1'"
      ]
     },
     "execution_count": 4,
     "metadata": {},
     "output_type": "execute_result"
    }
   ],
   "source": [
    "# Check keras version\n",
    "tf.keras.__version__\n",
    "#3.4.1"
   ]
  },
  {
   "cell_type": "markdown",
   "id": "dbaaa4ed-48ed-4162-b990-eb08c1daa163",
   "metadata": {
    "id": "dbaaa4ed-48ed-4162-b990-eb08c1daa163"
   },
   "source": [
    "# Jena ANN"
   ]
  },
  {
   "cell_type": "code",
   "execution_count": 5,
   "id": "9a499187-817e-42d4-9841-8e8439150c44",
   "metadata": {},
   "outputs": [],
   "source": [
    "# Load Data (Already cleaned and decimated)\n",
    "# Jupyter Notebook Edition\n",
    "df3=pd.read_csv('dataset/Jena_climate/cleanJena3.csv')"
   ]
  },
  {
   "cell_type": "markdown",
   "id": "afa37a68-fa72-4137-855a-7b8c230e35e6",
   "metadata": {},
   "source": [
    "Adjustment for Google Colab"
   ]
  },
  {
   "cell_type": "code",
   "execution_count": 6,
   "id": "c1842efb-f615-4685-8b86-e63cb984b9ad",
   "metadata": {},
   "outputs": [],
   "source": [
    "#from google.colab import drive\n",
    "#drive.mount('/content/drive')"
   ]
  },
  {
   "cell_type": "code",
   "execution_count": 7,
   "id": "021e88ac-8569-4ec8-94dc-49a5ead1b161",
   "metadata": {},
   "outputs": [],
   "source": [
    "#!ls \"/content/drive/MyDrive/DeepLearingGroup2/code/dataset/Jena_climate\""
   ]
  },
  {
   "cell_type": "code",
   "execution_count": 8,
   "id": "1f5de641-5f88-4804-8871-820ec701d196",
   "metadata": {},
   "outputs": [],
   "source": [
    "#df3=pd.read_csv('/content/drive/MyDrive/DeepLearingGroup2/code/dataset/Jena_climate/cleanJena.csv')"
   ]
  },
  {
   "cell_type": "markdown",
   "id": "a8526b6b-8c7f-4bf5-a88b-09b904fbe9f3",
   "metadata": {},
   "source": [
    "End Adjustment for Google Colab"
   ]
  },
  {
   "cell_type": "code",
   "execution_count": 9,
   "id": "eb077bdd-b883-47b9-8288-7734b1426183",
   "metadata": {},
   "outputs": [
    {
     "name": "stdout",
     "output_type": "stream",
     "text": [
      "<class 'pandas.core.frame.DataFrame'>\n",
      "RangeIndex: 23363 entries, 0 to 23362\n",
      "Data columns (total 11 columns):\n",
      " #   Column         Non-Null Count  Dtype  \n",
      "---  ------         --------------  -----  \n",
      " 0   p (mbar)       23363 non-null  float64\n",
      " 1   VPact (mbar)   23363 non-null  float64\n",
      " 2   Tdew (degC)    23363 non-null  float64\n",
      " 3   T (degC)       23363 non-null  float64\n",
      " 4   max. wv (m/s)  23363 non-null  float64\n",
      " 5   NSwind         23363 non-null  float64\n",
      " 6   EWwind         23363 non-null  float64\n",
      " 7   year           23363 non-null  int64  \n",
      " 8   month          23363 non-null  int64  \n",
      " 9   day            23363 non-null  int64  \n",
      " 10  hour           23363 non-null  int64  \n",
      "dtypes: float64(7), int64(4)\n",
      "memory usage: 2.0 MB\n"
     ]
    }
   ],
   "source": [
    "df3.info()"
   ]
  },
  {
   "cell_type": "code",
   "execution_count": 10,
   "id": "a004beb4-d997-413e-9696-b3eb49d8a008",
   "metadata": {},
   "outputs": [
    {
     "data": {
      "text/html": [
       "<div>\n",
       "<style scoped>\n",
       "    .dataframe tbody tr th:only-of-type {\n",
       "        vertical-align: middle;\n",
       "    }\n",
       "\n",
       "    .dataframe tbody tr th {\n",
       "        vertical-align: top;\n",
       "    }\n",
       "\n",
       "    .dataframe thead th {\n",
       "        text-align: right;\n",
       "    }\n",
       "</style>\n",
       "<table border=\"1\" class=\"dataframe\">\n",
       "  <thead>\n",
       "    <tr style=\"text-align: right;\">\n",
       "      <th></th>\n",
       "      <th>p (mbar)</th>\n",
       "      <th>VPact (mbar)</th>\n",
       "      <th>Tdew (degC)</th>\n",
       "      <th>T (degC)</th>\n",
       "      <th>max. wv (m/s)</th>\n",
       "      <th>NSwind</th>\n",
       "      <th>EWwind</th>\n",
       "      <th>year</th>\n",
       "      <th>month</th>\n",
       "      <th>day</th>\n",
       "      <th>hour</th>\n",
       "    </tr>\n",
       "  </thead>\n",
       "  <tbody>\n",
       "    <tr>\n",
       "      <th>count</th>\n",
       "      <td>23363.000000</td>\n",
       "      <td>23363.000000</td>\n",
       "      <td>23363.000000</td>\n",
       "      <td>23363.000000</td>\n",
       "      <td>23363.000000</td>\n",
       "      <td>23363.000000</td>\n",
       "      <td>23363.000000</td>\n",
       "      <td>23363.000000</td>\n",
       "      <td>23363.000000</td>\n",
       "      <td>23363.000000</td>\n",
       "      <td>23363.000000</td>\n",
       "    </tr>\n",
       "    <tr>\n",
       "      <th>mean</th>\n",
       "      <td>989.216246</td>\n",
       "      <td>9.533017</td>\n",
       "      <td>4.954671</td>\n",
       "      <td>9.456338</td>\n",
       "      <td>3.533382</td>\n",
       "      <td>-0.631798</td>\n",
       "      <td>-0.415655</td>\n",
       "      <td>2012.497068</td>\n",
       "      <td>6.517399</td>\n",
       "      <td>15.713222</td>\n",
       "      <td>10.500449</td>\n",
       "    </tr>\n",
       "    <tr>\n",
       "      <th>std</th>\n",
       "      <td>8.353071</td>\n",
       "      <td>4.184973</td>\n",
       "      <td>6.730860</td>\n",
       "      <td>8.428081</td>\n",
       "      <td>2.339862</td>\n",
       "      <td>1.983549</td>\n",
       "      <td>1.553730</td>\n",
       "      <td>2.289905</td>\n",
       "      <td>3.448433</td>\n",
       "      <td>8.799298</td>\n",
       "      <td>6.873702</td>\n",
       "    </tr>\n",
       "    <tr>\n",
       "      <th>min</th>\n",
       "      <td>942.720000</td>\n",
       "      <td>0.810000</td>\n",
       "      <td>-24.800000</td>\n",
       "      <td>-22.760000</td>\n",
       "      <td>0.000000</td>\n",
       "      <td>-10.783959</td>\n",
       "      <td>-7.148867</td>\n",
       "      <td>2009.000000</td>\n",
       "      <td>1.000000</td>\n",
       "      <td>1.000000</td>\n",
       "      <td>0.000000</td>\n",
       "    </tr>\n",
       "    <tr>\n",
       "      <th>25%</th>\n",
       "      <td>984.200000</td>\n",
       "      <td>6.220000</td>\n",
       "      <td>0.240000</td>\n",
       "      <td>3.340000</td>\n",
       "      <td>1.760000</td>\n",
       "      <td>-1.480647</td>\n",
       "      <td>-1.372670</td>\n",
       "      <td>2010.000000</td>\n",
       "      <td>4.000000</td>\n",
       "      <td>8.000000</td>\n",
       "      <td>6.000000</td>\n",
       "    </tr>\n",
       "    <tr>\n",
       "      <th>50%</th>\n",
       "      <td>989.590000</td>\n",
       "      <td>8.860000</td>\n",
       "      <td>5.210000</td>\n",
       "      <td>9.440000</td>\n",
       "      <td>2.980000</td>\n",
       "      <td>-0.637933</td>\n",
       "      <td>-0.296919</td>\n",
       "      <td>2012.000000</td>\n",
       "      <td>7.000000</td>\n",
       "      <td>16.000000</td>\n",
       "      <td>12.000000</td>\n",
       "    </tr>\n",
       "    <tr>\n",
       "      <th>75%</th>\n",
       "      <td>994.730000</td>\n",
       "      <td>12.360000</td>\n",
       "      <td>10.080000</td>\n",
       "      <td>15.480000</td>\n",
       "      <td>4.730000</td>\n",
       "      <td>0.306138</td>\n",
       "      <td>0.432981</td>\n",
       "      <td>2014.000000</td>\n",
       "      <td>10.000000</td>\n",
       "      <td>23.000000</td>\n",
       "      <td>15.000000</td>\n",
       "    </tr>\n",
       "    <tr>\n",
       "      <th>max</th>\n",
       "      <td>1015.170000</td>\n",
       "      <td>28.040000</td>\n",
       "      <td>22.940000</td>\n",
       "      <td>36.460000</td>\n",
       "      <td>18.780000</td>\n",
       "      <td>7.709359</td>\n",
       "      <td>6.966350</td>\n",
       "      <td>2017.000000</td>\n",
       "      <td>12.000000</td>\n",
       "      <td>31.000000</td>\n",
       "      <td>21.000000</td>\n",
       "    </tr>\n",
       "  </tbody>\n",
       "</table>\n",
       "</div>"
      ],
      "text/plain": [
       "           p (mbar)  VPact (mbar)   Tdew (degC)      T (degC)  max. wv (m/s)  \\\n",
       "count  23363.000000  23363.000000  23363.000000  23363.000000   23363.000000   \n",
       "mean     989.216246      9.533017      4.954671      9.456338       3.533382   \n",
       "std        8.353071      4.184973      6.730860      8.428081       2.339862   \n",
       "min      942.720000      0.810000    -24.800000    -22.760000       0.000000   \n",
       "25%      984.200000      6.220000      0.240000      3.340000       1.760000   \n",
       "50%      989.590000      8.860000      5.210000      9.440000       2.980000   \n",
       "75%      994.730000     12.360000     10.080000     15.480000       4.730000   \n",
       "max     1015.170000     28.040000     22.940000     36.460000      18.780000   \n",
       "\n",
       "             NSwind        EWwind          year         month           day  \\\n",
       "count  23363.000000  23363.000000  23363.000000  23363.000000  23363.000000   \n",
       "mean      -0.631798     -0.415655   2012.497068      6.517399     15.713222   \n",
       "std        1.983549      1.553730      2.289905      3.448433      8.799298   \n",
       "min      -10.783959     -7.148867   2009.000000      1.000000      1.000000   \n",
       "25%       -1.480647     -1.372670   2010.000000      4.000000      8.000000   \n",
       "50%       -0.637933     -0.296919   2012.000000      7.000000     16.000000   \n",
       "75%        0.306138      0.432981   2014.000000     10.000000     23.000000   \n",
       "max        7.709359      6.966350   2017.000000     12.000000     31.000000   \n",
       "\n",
       "               hour  \n",
       "count  23363.000000  \n",
       "mean      10.500449  \n",
       "std        6.873702  \n",
       "min        0.000000  \n",
       "25%        6.000000  \n",
       "50%       12.000000  \n",
       "75%       15.000000  \n",
       "max       21.000000  "
      ]
     },
     "execution_count": 10,
     "metadata": {},
     "output_type": "execute_result"
    }
   ],
   "source": [
    "df3.describe()"
   ]
  },
  {
   "cell_type": "code",
   "execution_count": 11,
   "id": "1fd91aab-deaf-4387-abff-f0494dbb532f",
   "metadata": {
    "id": "1fd91aab-deaf-4387-abff-f0494dbb532f"
   },
   "outputs": [],
   "source": [
    "# Model / data parameters\n",
    "blk_len=16*8      #Look back at two weeks of data\n",
    "stp_len=8         #look forward 24 hours\n",
    "row_len=len(df3)   #total records (last target location)\n",
    "col_len=11         #total variables\n",
    "bat_len=64*8      #batch size of 2 months\n",
    "epo_len=32         #32 epochs\n",
    "val_fra=0.2        #use 20% of data for validation\n",
    "pas_len=blk_len+stp_len  #first target location\n",
    "cut_len=row_len-pas_len  #last start of predictor location\n",
    "drop_01=0.2        #First dropout layer\n",
    "drop_02=0.2        #Second dropout layer"
   ]
  },
  {
   "cell_type": "code",
   "execution_count": 12,
   "id": "085ede79-6d2d-42b3-a822-7429113ce02e",
   "metadata": {},
   "outputs": [
    {
     "name": "stdout",
     "output_type": "stream",
     "text": [
      "CPU times: total: 2.61 s\n",
      "Wall time: 3.83 s\n"
     ]
    }
   ],
   "source": [
    "%%time\n",
    "# Reformat\n",
    "y_train=df3['T (degC)'].iloc[pas_len:].to_numpy()  #pull out all the targets\n",
    "#start building predictor deck\n",
    "xAll=df3.to_numpy()\n",
    "xTrain=np.zeros([cut_len,blk_len,col_len])\n",
    "for i in range(cut_len):\n",
    "    for j in range(blk_len):\n",
    "            xTrain[i][j][:]=xAll[i+j][:]"
   ]
  },
  {
   "cell_type": "code",
   "execution_count": 13,
   "id": "e2c65169-0d1a-4043-9236-0e2433e0e35f",
   "metadata": {},
   "outputs": [],
   "source": [
    "#Normalize Input Data\n",
    "fixMe=tf.keras.layers.Normalization()\n",
    "fixMe.adapt(xTrain)"
   ]
  },
  {
   "cell_type": "code",
   "execution_count": 14,
   "id": "baa21089-32ca-4381-af2d-356600308b55",
   "metadata": {
    "id": "baa21089-32ca-4381-af2d-356600308b55"
   },
   "outputs": [],
   "source": [
    "# Build & train model function\n",
    "def model_build(drop1st,drop2nd):\n",
    "    #Build it exactly the same every time\n",
    "    tf.random.set_seed(19)\n",
    "    model = tf.keras.Sequential(\n",
    "        [\n",
    "            tf.keras.Input(shape=(blk_len,col_len)),\n",
    "            fixMe,\n",
    "            tf.keras.layers.Flatten(),\n",
    "            tf.keras.layers.Dense(64,\n",
    "                                  activation='relu'),\n",
    "            tf.keras.layers.Dropout(drop1st),\n",
    "            tf.keras.layers.Dense(32,\n",
    "                                  activation='relu'),\n",
    "            tf.keras.layers.Dropout(drop2nd),\n",
    "            tf.keras.layers.Dense(1,\n",
    "                                  activation='linear')\n",
    "        ]\n",
    "    )\n",
    "    model.compile(loss='mean_squared_error',\n",
    "                  optimizer='adam')\n",
    "    myHis=model.fit(xTrain,\n",
    "                    y_train,\n",
    "                    batch_size=bat_len,\n",
    "                    epochs=epo_len,\n",
    "                    validation_split=val_fra,\n",
    "                   verbose=0)\n",
    "    #myPre=model.predict(xTrain)\n",
    "    myEva=model.evaluate(xTrain,\n",
    "                         y_train,\n",
    "                        verbose=0)\n",
    "    return myEva"
   ]
  },
  {
   "cell_type": "markdown",
   "id": "ffa1f28e-7ffa-446f-99b1-7357fbba27aa",
   "metadata": {
    "id": "ffa1f28e-7ffa-446f-99b1-7357fbba27aa"
   },
   "source": [
    "### First Model, Adam"
   ]
  },
  {
   "cell_type": "code",
   "execution_count": 23,
   "id": "c2ff074d-a1c5-4e25-bd25-e46e4bc410fc",
   "metadata": {
    "id": "c2ff074d-a1c5-4e25-bd25-e46e4bc410fc"
   },
   "outputs": [
    {
     "name": "stdout",
     "output_type": "stream",
     "text": [
      "0.0 0.0 5.344531536102295\n",
      "0.0 0.0625 5.4419636726379395\n",
      "0.0 0.125 5.519043922424316\n",
      "0.0 0.1875 5.450360298156738\n",
      "0.0 0.25 5.429183483123779\n",
      "0.0 0.3125 6.11740255355835\n",
      "0.0 0.375 5.936070442199707\n",
      "0.0 0.4375 6.275309085845947\n",
      "0.0 0.5 7.7605695724487305\n",
      "0.0 0.5625 7.317038059234619\n",
      "0.0 0.625 7.105822563171387\n",
      "0.0 0.6875 8.417366981506348\n",
      "0.0 0.75 9.107661247253418\n",
      "0.0625 0.0 5.214359760284424\n",
      "0.0625 0.0625 5.243708610534668\n",
      "0.0625 0.125 5.785333156585693\n",
      "0.0625 0.1875 6.179978370666504\n",
      "0.0625 0.25 5.967288017272949\n",
      "0.0625 0.3125 6.524505615234375\n",
      "0.0625 0.375 6.520564556121826\n",
      "0.0625 0.4375 6.74485445022583\n",
      "0.0625 0.5 8.027664184570312\n",
      "0.0625 0.5625 7.137206077575684\n",
      "0.0625 0.625 8.223516464233398\n",
      "0.0625 0.6875 9.74994945526123\n",
      "0.0625 0.75 10.66358757019043\n",
      "0.125 0.0 5.5176167488098145\n",
      "0.125 0.0625 5.664641380310059\n",
      "0.125 0.125 5.6623077392578125\n",
      "0.125 0.1875 6.454704284667969\n",
      "0.125 0.25 5.810476303100586\n",
      "0.125 0.3125 6.500608921051025\n",
      "0.125 0.375 7.3474626541137695\n",
      "0.125 0.4375 6.334085941314697\n",
      "0.125 0.5 6.790037155151367\n",
      "0.125 0.5625 9.169440269470215\n",
      "0.125 0.625 7.626455783843994\n",
      "0.125 0.6875 8.80853271484375\n",
      "0.125 0.75 9.48724365234375\n",
      "0.1875 0.0 7.109060764312744\n",
      "0.1875 0.0625 6.307799339294434\n",
      "0.1875 0.125 6.489902019500732\n",
      "0.1875 0.1875 6.782497406005859\n",
      "0.1875 0.25 6.653076648712158\n",
      "0.1875 0.3125 6.773952484130859\n",
      "0.1875 0.375 6.956010818481445\n",
      "0.1875 0.4375 7.265985012054443\n",
      "0.1875 0.5 7.955306529998779\n",
      "0.1875 0.5625 8.650076866149902\n",
      "0.1875 0.625 7.913517951965332\n",
      "0.1875 0.6875 9.99166202545166\n",
      "0.1875 0.75 11.589786529541016\n",
      "0.25 0.0 8.12524127960205\n",
      "0.25 0.0625 9.302170753479004\n",
      "0.25 0.125 6.968361854553223\n",
      "0.25 0.1875 6.706701278686523\n",
      "0.25 0.25 6.63375997543335\n",
      "0.25 0.3125 7.7146430015563965\n",
      "0.25 0.375 6.691629886627197\n",
      "0.25 0.4375 7.606149196624756\n",
      "0.25 0.5 8.309272766113281\n",
      "0.25 0.5625 8.799264907836914\n",
      "0.25 0.625 9.73094367980957\n",
      "0.25 0.6875 11.393889427185059\n",
      "0.25 0.75 14.254878044128418\n",
      "0.3125 0.0 12.829302787780762\n",
      "0.3125 0.0625 10.564054489135742\n",
      "0.3125 0.125 7.808924674987793\n",
      "0.3125 0.1875 7.957938194274902\n",
      "0.3125 0.25 7.406136512756348\n",
      "0.3125 0.3125 7.774890899658203\n",
      "0.3125 0.375 7.297281265258789\n",
      "0.3125 0.4375 7.9694132804870605\n",
      "0.3125 0.5 8.054763793945312\n",
      "0.3125 0.5625 9.047933578491211\n",
      "0.3125 0.625 9.174681663513184\n",
      "0.3125 0.6875 9.172273635864258\n",
      "0.3125 0.75 9.238627433776855\n",
      "0.375 0.0 14.604063987731934\n",
      "0.375 0.0625 13.331459999084473\n",
      "0.375 0.125 8.771356582641602\n",
      "0.375 0.1875 11.0341157913208\n",
      "0.375 0.25 7.4533562660217285\n",
      "0.375 0.3125 8.186117172241211\n",
      "0.375 0.375 8.313093185424805\n",
      "0.375 0.4375 8.015308380126953\n",
      "0.375 0.5 8.305956840515137\n",
      "0.375 0.5625 9.657262802124023\n",
      "0.375 0.625 8.937835693359375\n",
      "0.375 0.6875 9.940183639526367\n",
      "0.375 0.75 14.494213104248047\n",
      "0.4375 0.0 19.660778045654297\n",
      "0.4375 0.0625 17.55495262145996\n",
      "0.4375 0.125 16.047134399414062\n",
      "0.4375 0.1875 9.222790718078613\n",
      "0.4375 0.25 9.5984525680542\n",
      "0.4375 0.3125 8.410468101501465\n",
      "0.4375 0.375 8.546964645385742\n",
      "0.4375 0.4375 8.307321548461914\n",
      "0.4375 0.5 9.252140045166016\n",
      "0.4375 0.5625 8.938054084777832\n",
      "0.4375 0.625 11.482230186462402\n",
      "0.4375 0.6875 10.451716423034668\n",
      "0.4375 0.75 11.162973403930664\n",
      "0.5 0.0 26.13576889038086\n",
      "0.5 0.0625 15.5130615234375\n",
      "0.5 0.125 14.701469421386719\n",
      "0.5 0.1875 12.550633430480957\n",
      "0.5 0.25 9.744571685791016\n",
      "0.5 0.3125 9.316441535949707\n",
      "0.5 0.375 9.537601470947266\n",
      "0.5 0.4375 9.58561897277832\n",
      "0.5 0.5 10.88533878326416\n",
      "0.5 0.5625 10.353920936584473\n",
      "0.5 0.625 10.132793426513672\n",
      "0.5 0.6875 10.028142929077148\n",
      "0.5 0.75 12.35624885559082\n",
      "0.5625 0.0 33.43392562866211\n",
      "0.5625 0.0625 27.99387550354004\n",
      "0.5625 0.125 19.4414119720459\n",
      "0.5625 0.1875 16.47000503540039\n",
      "0.5625 0.25 12.891107559204102\n",
      "0.5625 0.3125 10.4036283493042\n",
      "0.5625 0.375 10.28589153289795\n",
      "0.5625 0.4375 9.392820358276367\n",
      "0.5625 0.5 9.580659866333008\n",
      "0.5625 0.5625 11.491523742675781\n",
      "0.5625 0.625 9.828895568847656\n",
      "0.5625 0.6875 12.094254493713379\n",
      "0.5625 0.75 16.69774627685547\n",
      "0.625 0.0 56.87294006347656\n",
      "0.625 0.0625 45.83232879638672\n",
      "0.625 0.125 17.5495548248291\n",
      "0.625 0.1875 22.723554611206055\n",
      "0.625 0.25 15.274303436279297\n",
      "0.625 0.3125 11.23279857635498\n",
      "0.625 0.375 10.684048652648926\n",
      "0.625 0.4375 13.54494857788086\n",
      "0.625 0.5 11.326112747192383\n",
      "0.625 0.5625 11.354758262634277\n",
      "0.625 0.625 11.201167106628418\n",
      "0.625 0.6875 13.116643905639648\n",
      "0.625 0.75 15.121112823486328\n",
      "0.6875 0.0 76.76234436035156\n",
      "0.6875 0.0625 72.72032928466797\n",
      "0.6875 0.125 33.65261459350586\n",
      "0.6875 0.1875 37.999149322509766\n",
      "0.6875 0.25 19.909513473510742\n",
      "0.6875 0.3125 17.455137252807617\n",
      "0.6875 0.375 14.046303749084473\n",
      "0.6875 0.4375 14.371338844299316\n",
      "0.6875 0.5 12.751873970031738\n",
      "0.6875 0.5625 12.982726097106934\n",
      "0.6875 0.625 14.433880805969238\n",
      "0.6875 0.6875 14.257627487182617\n",
      "0.6875 0.75 14.308307647705078\n",
      "0.75 0.0 83.81111145019531\n",
      "0.75 0.0625 79.31492614746094\n",
      "0.75 0.125 56.4339714050293\n",
      "0.75 0.1875 41.66915512084961\n",
      "0.75 0.25 33.11350631713867\n",
      "0.75 0.3125 33.54941940307617\n",
      "0.75 0.375 18.0627498626709\n",
      "0.75 0.4375 19.329551696777344\n",
      "0.75 0.5 15.078595161437988\n",
      "0.75 0.5625 16.040266036987305\n",
      "0.75 0.625 16.03838539123535\n",
      "0.75 0.6875 15.85684871673584\n",
      "0.75 0.75 17.062969207763672\n",
      "CPU times: total: 14min 27s\n",
      "Wall time: 27min 11s\n"
     ]
    }
   ],
   "source": [
    "%%time\n",
    "q=np.arange(0.0,13.0/16.0,1.0/16.0)\n",
    "u=len(q)\n",
    "r=np.arange(u)\n",
    "s=np.zeros((u,u))\n",
    "for i in r:\n",
    "    drop_01=q[i]\n",
    "    for j in r:\n",
    "        drop_02=q[j]\n",
    "        e0=model_build(drop_01,drop_02)\n",
    "        print(drop_01,drop_02,e0)\n",
    "        s[i,j]=e0"
   ]
  },
  {
   "cell_type": "code",
   "execution_count": 24,
   "id": "3de8e596-201e-40b7-bd7a-222edae9ac75",
   "metadata": {},
   "outputs": [
    {
     "data": {
      "image/png": "[encoded data removed]",
      "text/plain": [
       "<Figure size 480x480 with 1 Axes>"
      ]
     },
     "metadata": {},
     "output_type": "display_data"
    }
   ],
   "source": [
    "plt.matshow(s)\n",
    "plt.show()"
   ]
  },
  {
   "cell_type": "code",
   "execution_count": 25,
   "id": "2dea6487-1f69-4862-864c-f79ff3e00459",
   "metadata": {},
   "outputs": [
    {
     "data": {
      "image/png": "[encoded data removed]",
      "text/plain": [
       "<Figure size 640x480 with 2 Axes>"
      ]
     },
     "metadata": {},
     "output_type": "display_data"
    }
   ],
   "source": [
    "levels=[5,6,7,8,9,10,12,14,18]\n",
    "fig, ax=plt.subplots()\n",
    "CS=ax.contourf(q,q,s,levels)\n",
    "#ax.clabel(CS,inline=True)\n",
    "ax.set_xlabel(\"Late Dropout\")\n",
    "ax.set_ylabel(\"Early Dropout\")\n",
    "cbar=fig.colorbar(CS)"
   ]
  },
  {
   "cell_type": "code",
   "execution_count": 27,
   "id": "909a221c-c097-48f1-a6a0-08c7f6af92c9",
   "metadata": {},
   "outputs": [
    {
     "data": {
      "image/png": "[encoded data removed]",
      "text/plain": [
       "<Figure size 640x480 with 2 Axes>"
      ]
     },
     "metadata": {},
     "output_type": "display_data"
    }
   ],
   "source": [
    "levels=[5,6,7,8,9,10,12,14,18]\n",
    "fig, ax=plt.subplots()\n",
    "CS=ax.contour(q,q,s)\n",
    "ax.clabel(CS,inline=True)\n",
    "ax.set_xlabel(\"Late Dropout\")\n",
    "ax.set_ylabel(\"Early Dropout\")\n",
    "cbar=fig.colorbar(CS)"
   ]
  },
  {
   "cell_type": "code",
   "execution_count": null,
   "id": "e82a7cd6-1581-47cf-bbba-cdb9a2d85132",
   "metadata": {},
   "outputs": [],
   "source": []
  }
 ],
 "metadata": {
  "colab": {
   "provenance": [],
   "toc_visible": true
  },
  "kernelspec": {
   "display_name": "Python 3 (ipykernel)",
   "language": "python",
   "name": "python3"
  },
  "language_info": {
   "codemirror_mode": {
    "name": "ipython",
    "version": 3
   },
   "file_extension": ".py",
   "mimetype": "text/x-python",
   "name": "python",
   "nbconvert_exporter": "python",
   "pygments_lexer": "ipython3",
   "version": "3.12.3"
  }
 },
 "nbformat": 4,
 "nbformat_minor": 5
}
